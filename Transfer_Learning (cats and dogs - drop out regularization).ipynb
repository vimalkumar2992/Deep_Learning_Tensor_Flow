{
  "nbformat": 4,
  "nbformat_minor": 0,
  "metadata": {
    "colab": {
      "name": "Transfer Learning.ipynb",
      "provenance": [],
      "collapsed_sections": []
    },
    "kernelspec": {
      "display_name": "Python 3",
      "name": "python3"
    },
    "accelerator": "GPU"
  },
  "cells": [
    {
      "cell_type": "code",
      "metadata": {
        "colab_type": "code",
        "id": "1xJZ5glPPCRz",
        "outputId": "9dab30e6-8278-49a8-fb6d-a779514756b1",
        "colab": {
          "base_uri": "https://localhost:8080/",
          "height": 221
        }
      },
      "source": [
        "import os\n",
        "\n",
        "from tensorflow.keras import layers\n",
        "from tensorflow.keras import Model\n",
        "!wget --no-check-certificate \\\n",
        "    https://storage.googleapis.com/mledu-datasets/inception_v3_weights_tf_dim_ordering_tf_kernels_notop.h5 \\\n",
        "    -O /tmp/inception_v3_weights_tf_dim_ordering_tf_kernels_notop.h5\n",
        "  \n",
        "from tensorflow.keras.applications.inception_v3 import InceptionV3\n",
        "\n",
        "local_weights_file = '/tmp/inception_v3_weights_tf_dim_ordering_tf_kernels_notop.h5'\n",
        "\n",
        "pre_trained_model = InceptionV3(input_shape = (150, 150, 3), \n",
        "                                include_top = False, \n",
        "                                weights = None)\n",
        "\n",
        "pre_trained_model.load_weights(local_weights_file)\n",
        "\n",
        "for layer in pre_trained_model.layers:\n",
        "  layer.trainable = False\n",
        "  \n",
        "# pre_trained_model.summary()\n",
        "\n",
        "last_layer = pre_trained_model.get_layer('mixed7')\n",
        "print('last layer output shape: ', last_layer.output_shape)\n",
        "last_output = last_layer.output"
      ],
      "execution_count": 9,
      "outputs": [
        {
          "output_type": "stream",
          "text": [
            "--2020-01-05 16:45:41--  https://storage.googleapis.com/mledu-datasets/inception_v3_weights_tf_dim_ordering_tf_kernels_notop.h5\n",
            "Resolving storage.googleapis.com (storage.googleapis.com)... 74.125.140.128, 2a00:1450:400c:c06::80\n",
            "Connecting to storage.googleapis.com (storage.googleapis.com)|74.125.140.128|:443... connected.\n",
            "HTTP request sent, awaiting response... 200 OK\n",
            "Length: 87910968 (84M) [application/x-hdf]\n",
            "Saving to: ‘/tmp/inception_v3_weights_tf_dim_ordering_tf_kernels_notop.h5’\n",
            "\n",
            "\r          /tmp/ince   0%[                    ]       0  --.-KB/s               \r         /tmp/incep  19%[==>                 ]  16.01M  50.0MB/s               \r        /tmp/incept  57%[==========>         ]  48.33M  92.9MB/s               \r       /tmp/incepti  92%[=================>  ]  77.63M   108MB/s               \r/tmp/inception_v3_w 100%[===================>]  83.84M   113MB/s    in 0.7s    \n",
            "\n",
            "2020-01-05 16:45:42 (113 MB/s) - ‘/tmp/inception_v3_weights_tf_dim_ordering_tf_kernels_notop.h5’ saved [87910968/87910968]\n",
            "\n",
            "last layer output shape:  (None, 7, 7, 768)\n"
          ],
          "name": "stdout"
        }
      ]
    },
    {
      "cell_type": "code",
      "metadata": {
        "colab_type": "code",
        "id": "BMXb913pbvFg",
        "colab": {}
      },
      "source": [
        "from tensorflow.keras.optimizers import RMSprop\n",
        "\n",
        "# Flatten the output layer to 1 dimension\n",
        "x = layers.Flatten()(last_output)\n",
        "# Add a fully connected layer with 1,024 hidden units and ReLU activation\n",
        "x = layers.Dense(1024, activation='relu')(x)\n",
        "# Add a dropout rate of 0.2\n",
        "x = layers.Dropout(0.2)(x)                  \n",
        "# Add a final sigmoid layer for classification\n",
        "x = layers.Dense  (1, activation='sigmoid')(x)           \n",
        "\n",
        "model = Model( pre_trained_model.input, x) \n",
        "\n",
        "model.compile(optimizer = RMSprop(lr=0.0001), \n",
        "              loss = 'binary_crossentropy', \n",
        "              metrics = ['acc'])\n"
      ],
      "execution_count": 0,
      "outputs": []
    },
    {
      "cell_type": "code",
      "metadata": {
        "colab_type": "code",
        "id": "O4s8HckqGlnb",
        "outputId": "db144358-8271-4fa3-aa95-f12627910365",
        "colab": {
          "base_uri": "https://localhost:8080/",
          "height": 238
        }
      },
      "source": [
        "!wget --no-check-certificate \\\n",
        "        https://storage.googleapis.com/mledu-datasets/cats_and_dogs_filtered.zip \\\n",
        "       -O /tmp/cats_and_dogs_filtered.zip\n",
        "\n",
        "from tensorflow.keras.preprocessing.image import ImageDataGenerator\n",
        "\n",
        "import os\n",
        "import zipfile\n",
        "\n",
        "local_zip = '//tmp/cats_and_dogs_filtered.zip'\n",
        "\n",
        "zip_ref = zipfile.ZipFile(local_zip, 'r')\n",
        "\n",
        "zip_ref.extractall('/tmp')\n",
        "zip_ref.close()\n",
        "\n",
        "# Define our example directories and files\n",
        "base_dir = '/tmp/cats_and_dogs_filtered'\n",
        "\n",
        "train_dir = os.path.join( base_dir, 'train')\n",
        "validation_dir = os.path.join( base_dir, 'validation')\n",
        "\n",
        "\n",
        "train_cats_dir = os.path.join(train_dir, 'cats') # Directory with our training cat pictures\n",
        "train_dogs_dir = os.path.join(train_dir, 'dogs') # Directory with our training dog pictures\n",
        "validation_cats_dir = os.path.join(validation_dir, 'cats') # Directory with our validation cat pictures\n",
        "validation_dogs_dir = os.path.join(validation_dir, 'dogs')# Directory with our validation dog pictures\n",
        "\n",
        "train_cat_fnames = os.listdir(train_cats_dir)\n",
        "train_dog_fnames = os.listdir(train_dogs_dir)\n",
        "\n",
        "# Add our data-augmentation parameters to ImageDataGenerator\n",
        "train_datagen = ImageDataGenerator(rescale = 1./255.,\n",
        "                                   rotation_range = 40,\n",
        "                                   width_shift_range = 0.2,\n",
        "                                   height_shift_range = 0.2,\n",
        "                                   shear_range = 0.2,\n",
        "                                   zoom_range = 0.2,\n",
        "                                   horizontal_flip = True)\n",
        "\n",
        "# Note that the validation data should not be augmented!\n",
        "test_datagen = ImageDataGenerator( rescale = 1.0/255. )\n",
        "\n",
        "# Flow training images in batches of 20 using train_datagen generator\n",
        "train_generator = train_datagen.flow_from_directory(train_dir,\n",
        "                                                    batch_size = 20,\n",
        "                                                    class_mode = 'binary', \n",
        "                                                    target_size = (150, 150))     \n",
        "\n",
        "# Flow validation images in batches of 20 using test_datagen generator\n",
        "validation_generator =  test_datagen.flow_from_directory( validation_dir,\n",
        "                                                          batch_size  = 20,\n",
        "                                                          class_mode  = 'binary', \n",
        "                                                          target_size = (150, 150))"
      ],
      "execution_count": 11,
      "outputs": [
        {
          "output_type": "stream",
          "text": [
            "--2020-01-05 16:51:06--  https://storage.googleapis.com/mledu-datasets/cats_and_dogs_filtered.zip\n",
            "Resolving storage.googleapis.com (storage.googleapis.com)... 64.233.184.128, 2a00:1450:400c:c09::80\n",
            "Connecting to storage.googleapis.com (storage.googleapis.com)|64.233.184.128|:443... connected.\n",
            "HTTP request sent, awaiting response... 200 OK\n",
            "Length: 68606236 (65M) [application/zip]\n",
            "Saving to: ‘/tmp/cats_and_dogs_filtered.zip’\n",
            "\n",
            "/tmp/cats_and_dogs_ 100%[===================>]  65.43M  68.8MB/s    in 1.0s    \n",
            "\n",
            "2020-01-05 16:51:08 (68.8 MB/s) - ‘/tmp/cats_and_dogs_filtered.zip’ saved [68606236/68606236]\n",
            "\n",
            "Found 2000 images belonging to 2 classes.\n",
            "Found 1000 images belonging to 2 classes.\n"
          ],
          "name": "stdout"
        }
      ]
    },
    {
      "cell_type": "code",
      "metadata": {
        "colab_type": "code",
        "id": "Blhq2MAUeyGA",
        "outputId": "d3a230ce-818d-4dc9-d62b-cf0e4ccd5de5",
        "colab": {
          "base_uri": "https://localhost:8080/",
          "height": 1000
        }
      },
      "source": [
        "history = model.fit_generator(\n",
        "            train_generator,\n",
        "            validation_data = validation_generator,\n",
        "            steps_per_epoch = 100,\n",
        "            epochs = 20,\n",
        "            validation_steps = 50,\n",
        "            verbose = 2)"
      ],
      "execution_count": 12,
      "outputs": [
        {
          "output_type": "stream",
          "text": [
            "Epoch 1/20\n",
            "Epoch 1/20\n",
            "100/100 - 26s - loss: 0.4965 - acc: 0.7670 - val_loss: 0.2131 - val_acc: 0.9350\n",
            "Epoch 2/20\n",
            "Epoch 1/20\n",
            "100/100 - 21s - loss: 0.3986 - acc: 0.8200 - val_loss: 0.3275 - val_acc: 0.9240\n",
            "Epoch 3/20\n",
            "Epoch 1/20\n",
            "100/100 - 21s - loss: 0.3358 - acc: 0.8510 - val_loss: 0.3386 - val_acc: 0.9360\n",
            "Epoch 4/20\n",
            "Epoch 1/20\n",
            "100/100 - 21s - loss: 0.3265 - acc: 0.8590 - val_loss: 0.2557 - val_acc: 0.9580\n",
            "Epoch 5/20\n",
            "Epoch 1/20\n",
            "100/100 - 20s - loss: 0.3192 - acc: 0.8695 - val_loss: 0.4086 - val_acc: 0.9380\n",
            "Epoch 6/20\n",
            "Epoch 1/20\n",
            "100/100 - 19s - loss: 0.3118 - acc: 0.8810 - val_loss: 0.6199 - val_acc: 0.9210\n",
            "Epoch 7/20\n",
            "Epoch 1/20\n",
            "100/100 - 19s - loss: 0.2876 - acc: 0.8865 - val_loss: 0.6184 - val_acc: 0.9240\n",
            "Epoch 8/20\n",
            "Epoch 1/20\n",
            "100/100 - 19s - loss: 0.3123 - acc: 0.8795 - val_loss: 0.2439 - val_acc: 0.9590\n",
            "Epoch 9/20\n",
            "Epoch 1/20\n",
            "100/100 - 19s - loss: 0.2677 - acc: 0.8850 - val_loss: 0.3011 - val_acc: 0.9560\n",
            "Epoch 10/20\n",
            "Epoch 1/20\n",
            "100/100 - 19s - loss: 0.2749 - acc: 0.8890 - val_loss: 0.3471 - val_acc: 0.9560\n",
            "Epoch 11/20\n",
            "Epoch 1/20\n",
            "100/100 - 19s - loss: 0.2981 - acc: 0.8870 - val_loss: 0.4375 - val_acc: 0.9480\n",
            "Epoch 12/20\n",
            "Epoch 1/20\n",
            "100/100 - 19s - loss: 0.2545 - acc: 0.8995 - val_loss: 0.7632 - val_acc: 0.9250\n",
            "Epoch 13/20\n",
            "Epoch 1/20\n",
            "100/100 - 21s - loss: 0.2675 - acc: 0.8920 - val_loss: 0.5869 - val_acc: 0.9390\n",
            "Epoch 14/20\n",
            "Epoch 1/20\n",
            "100/100 - 20s - loss: 0.2768 - acc: 0.8910 - val_loss: 0.4139 - val_acc: 0.9530\n",
            "Epoch 15/20\n",
            "Epoch 1/20\n",
            "100/100 - 21s - loss: 0.2916 - acc: 0.8835 - val_loss: 0.4857 - val_acc: 0.9480\n",
            "Epoch 16/20\n",
            "Epoch 1/20\n",
            "100/100 - 20s - loss: 0.2824 - acc: 0.8880 - val_loss: 0.3663 - val_acc: 0.9550\n",
            "Epoch 17/20\n",
            "Epoch 1/20\n",
            "100/100 - 21s - loss: 0.2618 - acc: 0.8990 - val_loss: 0.3950 - val_acc: 0.9550\n",
            "Epoch 18/20\n",
            "Epoch 1/20\n",
            "100/100 - 21s - loss: 0.2584 - acc: 0.8985 - val_loss: 0.4268 - val_acc: 0.9590\n",
            "Epoch 19/20\n",
            "Epoch 1/20\n",
            "100/100 - 21s - loss: 0.2303 - acc: 0.8990 - val_loss: 0.4204 - val_acc: 0.9550\n",
            "Epoch 20/20\n",
            "Epoch 1/20\n",
            "100/100 - 20s - loss: 0.2472 - acc: 0.8995 - val_loss: 0.4547 - val_acc: 0.9570\n"
          ],
          "name": "stdout"
        }
      ]
    },
    {
      "cell_type": "code",
      "metadata": {
        "id": "C2Fp6Se9rKuL",
        "colab_type": "code",
        "outputId": "dd9fa7f6-efc4-420a-c1cd-a7d0b8752e9e",
        "colab": {
          "base_uri": "https://localhost:8080/",
          "height": 298
        }
      },
      "source": [
        "import matplotlib.pyplot as plt\n",
        "acc = history.history['acc']\n",
        "val_acc = history.history['val_acc']\n",
        "loss = history.history['loss']\n",
        "val_loss = history.history['val_loss']\n",
        "\n",
        "epochs = range(len(acc))\n",
        "\n",
        "plt.plot(epochs, acc, 'r', label='Training accuracy')\n",
        "plt.plot(epochs, val_acc, 'b', label='Validation accuracy')\n",
        "plt.title('Training and validation accuracy')\n",
        "plt.legend(loc=0)\n",
        "plt.figure()\n",
        "\n",
        "\n",
        "plt.show()"
      ],
      "execution_count": 13,
      "outputs": [
        {
          "output_type": "display_data",
          "data": {
            "image/png": "[encoded data removed]",
            "text/plain": [
              "<Figure size 432x288 with 1 Axes>"
            ]
          },
          "metadata": {
            "tags": []
          }
        },
        {
          "output_type": "display_data",
          "data": {
            "text/plain": [
              "<Figure size 432x288 with 0 Axes>"
            ]
          },
          "metadata": {
            "tags": []
          }
        }
      ]
    },
    {
      "cell_type": "code",
      "metadata": {
        "id": "1M2js1N4phnS",
        "colab_type": "code",
        "colab": {}
      },
      "source": [
        ""
      ],
      "execution_count": 0,
      "outputs": []
    }
  ]
}