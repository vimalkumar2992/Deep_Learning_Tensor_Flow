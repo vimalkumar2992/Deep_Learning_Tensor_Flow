{
  "nbformat": 4,
  "nbformat_minor": 0,
  "metadata": {
    "colab": {
      "name": "NLP Course - Week 3 Exercise Answer.ipynb",
      "provenance": []
    },
    "kernelspec": {
      "name": "python3",
      "display_name": "Python 3"
    },
    "accelerator": "GPU"
  },
  "cells": [
    {
      "cell_type": "code",
      "metadata": {
        "id": "hmA6EzkQJ5jt",
        "colab_type": "code",
        "colab": {
          "base_uri": "https://localhost:8080/",
          "height": 63
        },
        "outputId": "aa3b2cc9-7a5a-436c-bbec-f2b13b8f6705"
      },
      "source": [
        "import json\n",
        "import tensorflow as tf\n",
        "import csv\n",
        "import random\n",
        "import numpy as np\n",
        "\n",
        "from tensorflow.keras.preprocessing.text import Tokenizer\n",
        "from tensorflow.keras.preprocessing.sequence import pad_sequences\n",
        "from tensorflow.keras.utils import to_categorical\n",
        "from tensorflow.keras import regularizers\n",
        "\n",
        "\n",
        "embedding_dim = 100\n",
        "max_length = 16\n",
        "trunc_type='post'\n",
        "padding_type='post'\n",
        "oov_tok = \"<OOV>\"\n",
        "training_size=160000\n",
        "test_portion=.1\n",
        "\n",
        "corpus = []\n"
      ],
      "execution_count": 3,
      "outputs": [
        {
          "output_type": "display_data",
          "data": {
            "text/html": [
              "<p style=\"color: red;\">\n",
              "The default version of TensorFlow in Colab will soon switch to TensorFlow 2.x.<br>\n",
              "We recommend you <a href=\"https://www.tensorflow.org/guide/migrate\" target=\"_blank\">upgrade</a> now \n",
              "or ensure your notebook will continue to use TensorFlow 1.x via the <code>%tensorflow_version 1.x</code> magic:\n",
              "<a href=\"https://colab.research.google.com/notebooks/tensorflow_version.ipynb\" target=\"_blank\">more info</a>.</p>\n"
            ],
            "text/plain": [
              "<IPython.core.display.HTML object>"
            ]
          },
          "metadata": {
            "tags": []
          }
        }
      ]
    },
    {
      "cell_type": "code",
      "metadata": {
        "id": "bM0l_dORKqE0",
        "colab_type": "code",
        "outputId": "8a59abb6-8c28-431b-d4da-172289051978",
        "colab": {
          "base_uri": "https://localhost:8080/",
          "height": 204
        }
      },
      "source": [
        "\n",
        "# Note that I cleaned the Stanford dataset to remove LATIN1 encoding to make it easier for Python CSV reader\n",
        "# You can do that yourself with:\n",
        "# iconv -f LATIN1 -t UTF8 training.1600000.processed.noemoticon.csv -o training_cleaned.csv\n",
        "# I then hosted it on my site to make it easier to use in this notebook\n",
        "\n",
        "!wget --no-check-certificate \\\n",
        "    https://storage.googleapis.com/laurencemoroney-blog.appspot.com/training_cleaned.csv \\\n",
        "    -O /tmp/training_cleaned.csv\n",
        "\n",
        "num_sentences = 0\n",
        "\n",
        "with open(\"/tmp/training_cleaned.csv\") as csvfile:\n",
        "    reader = csv.reader(csvfile, delimiter=',')\n",
        "    for row in reader:\n",
        "        list_item=[]\n",
        "        list_item.append(row[5])\n",
        "        this_label=row[0]\n",
        "        if this_label=='0':\n",
        "            list_item.append(0)\n",
        "        else:\n",
        "            list_item.append(1)\n",
        "        num_sentences = num_sentences + 1\n",
        "        corpus.append(list_item)\n",
        "\n",
        "\n"
      ],
      "execution_count": 4,
      "outputs": [
        {
          "output_type": "stream",
          "text": [
            "--2020-01-07 16:52:54--  https://storage.googleapis.com/laurencemoroney-blog.appspot.com/training_cleaned.csv\n",
            "Resolving storage.googleapis.com (storage.googleapis.com)... 74.125.24.128, 2404:6800:4003:c04::80\n",
            "Connecting to storage.googleapis.com (storage.googleapis.com)|74.125.24.128|:443... connected.\n",
            "HTTP request sent, awaiting response... 200 OK\n",
            "Length: 238942690 (228M) [application/octet-stream]\n",
            "Saving to: ‘/tmp/training_cleaned.csv’\n",
            "\n",
            "\r          /tmp/trai   0%[                    ]       0  --.-KB/s               \r         /tmp/train  16%[==>                 ]  37.75M   189MB/s               \r        /tmp/traini  40%[=======>            ]  91.91M   230MB/s               \r       /tmp/trainin  59%[==========>         ] 136.28M   227MB/s               \r      /tmp/training  81%[===============>    ] 186.37M   233MB/s               \r/tmp/training_clean 100%[===================>] 227.87M   238MB/s    in 1.0s    \n",
            "\n",
            "2020-01-07 16:52:55 (238 MB/s) - ‘/tmp/training_cleaned.csv’ saved [238942690/238942690]\n",
            "\n"
          ],
          "name": "stdout"
        }
      ]
    },
    {
      "cell_type": "code",
      "metadata": {
        "id": "spCkUGJFz6_X",
        "colab_type": "code",
        "colab": {
          "base_uri": "https://localhost:8080/",
          "height": 51
        },
        "outputId": "26b97dc3-cdb2-4c4d-ad4c-79bfa63c4c7a"
      },
      "source": [
        "corpus[0]"
      ],
      "execution_count": 5,
      "outputs": [
        {
          "output_type": "execute_result",
          "data": {
            "text/plain": [
              "[\"@switchfoot http://twitpic.com/2y1zl - Awww, that's a bummer.  You shoulda got David Carr of Third Day to do it. ;D\",\n",
              " 0]"
            ]
          },
          "metadata": {
            "tags": []
          },
          "execution_count": 5
        }
      ]
    },
    {
      "cell_type": "code",
      "metadata": {
        "id": "3kxblBUjEUX-",
        "colab_type": "code",
        "outputId": "d1fef5ff-e114-47f4-c9db-9671831368b5",
        "colab": {
          "base_uri": "https://localhost:8080/",
          "height": 68
        }
      },
      "source": [
        "print(num_sentences)\n",
        "print(len(corpus))\n",
        "print(corpus[1])\n",
        "\n",
        "# Expected Output:\n",
        "# 1600000\n",
        "# 1600000\n",
        "# [\"is upset that he can't update his Facebook by texting it... and might cry as a result  School today also. Blah!\", 0]"
      ],
      "execution_count": 6,
      "outputs": [
        {
          "output_type": "stream",
          "text": [
            "1600000\n",
            "1600000\n",
            "[\"is upset that he can't update his Facebook by texting it... and might cry as a result  School today also. Blah!\", 0]\n"
          ],
          "name": "stdout"
        }
      ]
    },
    {
      "cell_type": "code",
      "metadata": {
        "id": "ohOGz24lsNAD",
        "colab_type": "code",
        "colab": {}
      },
      "source": [
        "sentences=[]\n",
        "labels=[]\n",
        "random.shuffle(corpus)\n",
        "for x in range(training_size):\n",
        "    sentences.append(corpus[x][0])\n",
        "    labels.append(corpus[x][1])\n",
        "\n",
        "\n",
        "tokenizer = Tokenizer()\n",
        "tokenizer.fit_on_texts(sentences)\n",
        "\n",
        "word_index = tokenizer.word_index\n",
        "vocab_size=len(word_index)\n",
        "\n",
        "sequences = tokenizer.texts_to_sequences(sentences)\n",
        "padded = pad_sequences(sequences, maxlen=max_length, padding=padding_type, truncating=trunc_type)\n",
        "\n",
        "split = int(test_portion * training_size)\n",
        "\n",
        "test_sequences = padded[0:split]\n",
        "training_sequences = padded[split:training_size]\n",
        "test_labels = labels[0:split]\n",
        "training_labels = labels[split:training_size]"
      ],
      "execution_count": 0,
      "outputs": []
    },
    {
      "cell_type": "code",
      "metadata": {
        "id": "gIrtRem1En3N",
        "colab_type": "code",
        "outputId": "1155be40-5c99-4eb6-ef20-5b8e2a8d4e04",
        "colab": {
          "base_uri": "https://localhost:8080/",
          "height": 51
        }
      },
      "source": [
        "print(vocab_size)\n",
        "print(word_index['i'])\n",
        "# Expected Output\n",
        "# 138858\n",
        "# 1"
      ],
      "execution_count": 8,
      "outputs": [
        {
          "output_type": "stream",
          "text": [
            "138896\n",
            "1\n"
          ],
          "name": "stdout"
        }
      ]
    },
    {
      "cell_type": "code",
      "metadata": {
        "id": "C1zdgJkusRh0",
        "colab_type": "code",
        "outputId": "5fb93deb-d2a1-48cd-a76a-7c4c02c11599",
        "colab": {
          "base_uri": "https://localhost:8080/",
          "height": 204
        }
      },
      "source": [
        "# Note this is the 100 dimension version of GloVe from Stanford\n",
        "# I unzipped and hosted it on my site to make this notebook easier\n",
        "!wget --no-check-certificate \\\n",
        "    https://storage.googleapis.com/laurencemoroney-blog.appspot.com/glove.6B.100d.txt \\\n",
        "    -O /tmp/glove.6B.100d.txt\n",
        "embeddings_index = {};\n",
        "with open('/tmp/glove.6B.100d.txt') as f:\n",
        "    for line in f:\n",
        "        values = line.split();\n",
        "        word = values[0];\n",
        "        coefs = np.asarray(values[1:], dtype='float32');\n",
        "        embeddings_index[word] = coefs;\n",
        "\n",
        "embeddings_matrix = np.zeros((vocab_size+1, embedding_dim));\n",
        "for word, i in word_index.items():\n",
        "    embedding_vector = embeddings_index.get(word);\n",
        "    if embedding_vector is not None:\n",
        "        embeddings_matrix[i] = embedding_vector;"
      ],
      "execution_count": 9,
      "outputs": [
        {
          "output_type": "stream",
          "text": [
            "--2020-01-07 16:53:11--  https://storage.googleapis.com/laurencemoroney-blog.appspot.com/glove.6B.100d.txt\n",
            "Resolving storage.googleapis.com (storage.googleapis.com)... 74.125.24.128, 2404:6800:4003:c04::80\n",
            "Connecting to storage.googleapis.com (storage.googleapis.com)|74.125.24.128|:443... connected.\n",
            "HTTP request sent, awaiting response... 200 OK\n",
            "Length: 347116733 (331M) [text/plain]\n",
            "Saving to: ‘/tmp/glove.6B.100d.txt’\n",
            "\n",
            "/tmp/glove.6B.100d. 100%[===================>] 331.04M  49.4MB/s    in 6.7s    \n",
            "\n",
            "2020-01-07 16:53:18 (49.4 MB/s) - ‘/tmp/glove.6B.100d.txt’ saved [347116733/347116733]\n",
            "\n"
          ],
          "name": "stdout"
        }
      ]
    },
    {
      "cell_type": "code",
      "metadata": {
        "id": "71NLk_lpFLNt",
        "colab_type": "code",
        "outputId": "30197922-f8e9-43ae-9358-d298ea04b76a",
        "colab": {
          "base_uri": "https://localhost:8080/",
          "height": 34
        }
      },
      "source": [
        "print(len(embeddings_matrix))\n",
        "# Expected Output\n",
        "# 138859"
      ],
      "execution_count": 10,
      "outputs": [
        {
          "output_type": "stream",
          "text": [
            "138897\n"
          ],
          "name": "stdout"
        }
      ]
    },
    {
      "cell_type": "code",
      "metadata": {
        "colab_type": "code",
        "id": "iKKvbuEBOGFz",
        "colab": {
          "base_uri": "https://localhost:8080/",
          "height": 1000
        },
        "outputId": "168507ee-7b1e-4903-e6ec-4e15826cecae"
      },
      "source": [
        "model = tf.keras.Sequential([\n",
        "    tf.keras.layers.Embedding(vocab_size+1, embedding_dim, input_length=max_length, weights=[embeddings_matrix], trainable=False),\n",
        "    tf.keras.layers.Dropout(0.2),\n",
        "    tf.keras.layers.Conv1D(64, 5, activation='relu'),\n",
        "    tf.keras.layers.MaxPooling1D(pool_size=4),\n",
        "    tf.keras.layers.LSTM(64),\n",
        "    tf.keras.layers.Dense(1, activation='sigmoid')\n",
        "])\n",
        "model.compile(loss='binary_crossentropy',optimizer='adam',metrics=['accuracy'])\n",
        "model.summary()\n",
        "\n",
        "num_epochs = 50\n",
        "history = model.fit(training_sequences, training_labels, epochs=num_epochs, validation_data=(test_sequences, test_labels), verbose=2)\n",
        "\n",
        "print(\"Training Complete\")\n"
      ],
      "execution_count": 11,
      "outputs": [
        {
          "output_type": "stream",
          "text": [
            "WARNING:tensorflow:From /usr/local/lib/python3.6/dist-packages/tensorflow_core/python/keras/initializers.py:119: calling RandomUniform.__init__ (from tensorflow.python.ops.init_ops) with dtype is deprecated and will be removed in a future version.\n",
            "Instructions for updating:\n",
            "Call initializer instance with the dtype argument instead of passing it to the constructor\n",
            "WARNING:tensorflow:From /usr/local/lib/python3.6/dist-packages/tensorflow_core/python/ops/resource_variable_ops.py:1630: calling BaseResourceVariable.__init__ (from tensorflow.python.ops.resource_variable_ops) with constraint is deprecated and will be removed in a future version.\n",
            "Instructions for updating:\n",
            "If using Keras pass *_constraint arguments to layers.\n",
            "WARNING:tensorflow:From /usr/local/lib/python3.6/dist-packages/tensorflow_core/python/ops/nn_impl.py:183: where (from tensorflow.python.ops.array_ops) is deprecated and will be removed in a future version.\n",
            "Instructions for updating:\n",
            "Use tf.where in 2.0, which has the same broadcast rule as np.where\n",
            "Model: \"sequential\"\n",
            "_________________________________________________________________\n",
            "Layer (type)                 Output Shape              Param #   \n",
            "=================================================================\n",
            "embedding (Embedding)        (None, 16, 100)           13889700  \n",
            "_________________________________________________________________\n",
            "dropout (Dropout)            (None, 16, 100)           0         \n",
            "_________________________________________________________________\n",
            "conv1d (Conv1D)              (None, 12, 64)            32064     \n",
            "_________________________________________________________________\n",
            "max_pooling1d (MaxPooling1D) (None, 3, 64)             0         \n",
            "_________________________________________________________________\n",
            "lstm (LSTM)                  (None, 64)                33024     \n",
            "_________________________________________________________________\n",
            "dense (Dense)                (None, 1)                 65        \n",
            "=================================================================\n",
            "Total params: 13,954,853\n",
            "Trainable params: 65,153\n",
            "Non-trainable params: 13,889,700\n",
            "_________________________________________________________________\n",
            "Train on 144000 samples, validate on 16000 samples\n",
            "Epoch 1/50\n",
            "144000/144000 - 42s - loss: 0.5677 - acc: 0.6987 - val_loss: 0.5448 - val_acc: 0.7127\n",
            "Epoch 2/50\n",
            "144000/144000 - 36s - loss: 0.5268 - acc: 0.7312 - val_loss: 0.5117 - val_acc: 0.7430\n",
            "Epoch 3/50\n",
            "144000/144000 - 37s - loss: 0.5116 - acc: 0.7423 - val_loss: 0.5020 - val_acc: 0.7483\n",
            "Epoch 4/50\n",
            "144000/144000 - 35s - loss: 0.4995 - acc: 0.7514 - val_loss: 0.4964 - val_acc: 0.7519\n",
            "Epoch 5/50\n",
            "144000/144000 - 37s - loss: 0.4915 - acc: 0.7568 - val_loss: 0.4978 - val_acc: 0.7541\n",
            "Epoch 6/50\n",
            "144000/144000 - 36s - loss: 0.4849 - acc: 0.7601 - val_loss: 0.4950 - val_acc: 0.7559\n",
            "Epoch 7/50\n",
            "144000/144000 - 37s - loss: 0.4784 - acc: 0.7670 - val_loss: 0.4963 - val_acc: 0.7575\n",
            "Epoch 8/50\n",
            "144000/144000 - 36s - loss: 0.4728 - acc: 0.7705 - val_loss: 0.5029 - val_acc: 0.7534\n",
            "Epoch 9/50\n",
            "144000/144000 - 36s - loss: 0.4688 - acc: 0.7715 - val_loss: 0.4992 - val_acc: 0.7569\n",
            "Epoch 10/50\n",
            "144000/144000 - 37s - loss: 0.4661 - acc: 0.7731 - val_loss: 0.4987 - val_acc: 0.7547\n",
            "Epoch 11/50\n",
            "144000/144000 - 36s - loss: 0.4631 - acc: 0.7744 - val_loss: 0.4985 - val_acc: 0.7534\n",
            "Epoch 12/50\n",
            "144000/144000 - 36s - loss: 0.4600 - acc: 0.7774 - val_loss: 0.5034 - val_acc: 0.7500\n",
            "Epoch 13/50\n",
            "144000/144000 - 37s - loss: 0.4567 - acc: 0.7787 - val_loss: 0.5005 - val_acc: 0.7521\n",
            "Epoch 14/50\n",
            "144000/144000 - 36s - loss: 0.4546 - acc: 0.7801 - val_loss: 0.4996 - val_acc: 0.7551\n",
            "Epoch 15/50\n",
            "144000/144000 - 37s - loss: 0.4516 - acc: 0.7822 - val_loss: 0.5013 - val_acc: 0.7547\n",
            "Epoch 16/50\n",
            "144000/144000 - 36s - loss: 0.4507 - acc: 0.7825 - val_loss: 0.5039 - val_acc: 0.7542\n",
            "Epoch 17/50\n",
            "144000/144000 - 36s - loss: 0.4489 - acc: 0.7835 - val_loss: 0.5037 - val_acc: 0.7531\n",
            "Epoch 18/50\n",
            "144000/144000 - 36s - loss: 0.4475 - acc: 0.7855 - val_loss: 0.5098 - val_acc: 0.7524\n",
            "Epoch 19/50\n",
            "144000/144000 - 37s - loss: 0.4463 - acc: 0.7862 - val_loss: 0.5052 - val_acc: 0.7519\n",
            "Epoch 20/50\n",
            "144000/144000 - 37s - loss: 0.4438 - acc: 0.7863 - val_loss: 0.5106 - val_acc: 0.7513\n",
            "Epoch 21/50\n",
            "144000/144000 - 36s - loss: 0.4438 - acc: 0.7868 - val_loss: 0.5108 - val_acc: 0.7503\n",
            "Epoch 22/50\n",
            "144000/144000 - 36s - loss: 0.4428 - acc: 0.7884 - val_loss: 0.5128 - val_acc: 0.7508\n",
            "Epoch 23/50\n",
            "144000/144000 - 36s - loss: 0.4414 - acc: 0.7877 - val_loss: 0.5062 - val_acc: 0.7544\n",
            "Epoch 24/50\n",
            "144000/144000 - 36s - loss: 0.4406 - acc: 0.7886 - val_loss: 0.5110 - val_acc: 0.7478\n",
            "Epoch 25/50\n",
            "144000/144000 - 36s - loss: 0.4405 - acc: 0.7895 - val_loss: 0.5134 - val_acc: 0.7495\n",
            "Epoch 26/50\n",
            "144000/144000 - 36s - loss: 0.4378 - acc: 0.7897 - val_loss: 0.5126 - val_acc: 0.7517\n",
            "Epoch 27/50\n",
            "144000/144000 - 36s - loss: 0.4383 - acc: 0.7897 - val_loss: 0.5096 - val_acc: 0.7501\n",
            "Epoch 28/50\n",
            "144000/144000 - 35s - loss: 0.4383 - acc: 0.7905 - val_loss: 0.5137 - val_acc: 0.7508\n",
            "Epoch 29/50\n",
            "144000/144000 - 35s - loss: 0.4376 - acc: 0.7906 - val_loss: 0.5104 - val_acc: 0.7513\n",
            "Epoch 30/50\n",
            "144000/144000 - 35s - loss: 0.4372 - acc: 0.7908 - val_loss: 0.5113 - val_acc: 0.7505\n",
            "Epoch 31/50\n",
            "144000/144000 - 35s - loss: 0.4359 - acc: 0.7927 - val_loss: 0.5114 - val_acc: 0.7514\n",
            "Epoch 32/50\n",
            "144000/144000 - 35s - loss: 0.4363 - acc: 0.7919 - val_loss: 0.5082 - val_acc: 0.7517\n",
            "Epoch 33/50\n",
            "144000/144000 - 36s - loss: 0.4348 - acc: 0.7922 - val_loss: 0.5156 - val_acc: 0.7511\n",
            "Epoch 34/50\n",
            "144000/144000 - 36s - loss: 0.4353 - acc: 0.7920 - val_loss: 0.5184 - val_acc: 0.7479\n",
            "Epoch 35/50\n",
            "144000/144000 - 36s - loss: 0.4340 - acc: 0.7912 - val_loss: 0.5185 - val_acc: 0.7502\n",
            "Epoch 36/50\n",
            "144000/144000 - 36s - loss: 0.4354 - acc: 0.7930 - val_loss: 0.5164 - val_acc: 0.7487\n",
            "Epoch 37/50\n",
            "144000/144000 - 36s - loss: 0.4323 - acc: 0.7942 - val_loss: 0.5181 - val_acc: 0.7473\n",
            "Epoch 38/50\n",
            "144000/144000 - 36s - loss: 0.4325 - acc: 0.7939 - val_loss: 0.5144 - val_acc: 0.7483\n",
            "Epoch 39/50\n",
            "144000/144000 - 36s - loss: 0.4332 - acc: 0.7925 - val_loss: 0.5177 - val_acc: 0.7478\n",
            "Epoch 40/50\n",
            "144000/144000 - 36s - loss: 0.4321 - acc: 0.7944 - val_loss: 0.5137 - val_acc: 0.7504\n",
            "Epoch 41/50\n",
            "144000/144000 - 36s - loss: 0.4328 - acc: 0.7943 - val_loss: 0.5128 - val_acc: 0.7526\n",
            "Epoch 42/50\n",
            "144000/144000 - 37s - loss: 0.4334 - acc: 0.7924 - val_loss: 0.5100 - val_acc: 0.7507\n",
            "Epoch 43/50\n",
            "144000/144000 - 36s - loss: 0.4321 - acc: 0.7943 - val_loss: 0.5175 - val_acc: 0.7501\n",
            "Epoch 44/50\n",
            "144000/144000 - 36s - loss: 0.4317 - acc: 0.7953 - val_loss: 0.5128 - val_acc: 0.7512\n",
            "Epoch 45/50\n",
            "144000/144000 - 38s - loss: 0.4332 - acc: 0.7939 - val_loss: 0.5118 - val_acc: 0.7498\n",
            "Epoch 46/50\n",
            "144000/144000 - 36s - loss: 0.4316 - acc: 0.7948 - val_loss: 0.5178 - val_acc: 0.7500\n",
            "Epoch 47/50\n",
            "144000/144000 - 36s - loss: 0.4295 - acc: 0.7965 - val_loss: 0.5188 - val_acc: 0.7476\n",
            "Epoch 48/50\n",
            "144000/144000 - 36s - loss: 0.4294 - acc: 0.7962 - val_loss: 0.5236 - val_acc: 0.7472\n",
            "Epoch 49/50\n",
            "144000/144000 - 37s - loss: 0.4293 - acc: 0.7960 - val_loss: 0.5188 - val_acc: 0.7494\n",
            "Epoch 50/50\n",
            "144000/144000 - 36s - loss: 0.4309 - acc: 0.7946 - val_loss: 0.5179 - val_acc: 0.7479\n",
            "Training Complete\n"
          ],
          "name": "stdout"
        }
      ]
    },
    {
      "cell_type": "code",
      "metadata": {
        "id": "qxju4ItJKO8F",
        "colab_type": "code",
        "colab": {
          "base_uri": "https://localhost:8080/",
          "height": 607
        },
        "outputId": "f6557a55-5363-4122-eddf-d2df8ff05317"
      },
      "source": [
        "import matplotlib.image  as mpimg\n",
        "import matplotlib.pyplot as plt\n",
        "\n",
        "#-----------------------------------------------------------\n",
        "# Retrieve a list of list results on training and test data\n",
        "# sets for each training epoch\n",
        "#-----------------------------------------------------------\n",
        "acc=history.history['acc']\n",
        "val_acc=history.history['val_acc']\n",
        "loss=history.history['loss']\n",
        "val_loss=history.history['val_loss']\n",
        "\n",
        "epochs=range(len(acc)) # Get number of epochs\n",
        "\n",
        "#------------------------------------------------\n",
        "# Plot training and validation accuracy per epoch\n",
        "#------------------------------------------------\n",
        "plt.plot(epochs, acc, 'r')\n",
        "plt.plot(epochs, val_acc, 'b')\n",
        "plt.title('Training and validation accuracy')\n",
        "plt.xlabel(\"Epochs\")\n",
        "plt.ylabel(\"Accuracy\")\n",
        "plt.legend([\"Accuracy\", \"Validation Accuracy\"])\n",
        "\n",
        "plt.figure()\n",
        "\n",
        "#------------------------------------------------\n",
        "# Plot training and validation loss per epoch\n",
        "#------------------------------------------------\n",
        "plt.plot(epochs, loss, 'r')\n",
        "plt.plot(epochs, val_loss, 'b')\n",
        "plt.title('Training and validation loss')\n",
        "plt.xlabel(\"Epochs\")\n",
        "plt.ylabel(\"Loss\")\n",
        "plt.legend([\"Loss\", \"Validation Loss\"])\n",
        "\n",
        "plt.figure()\n",
        "\n",
        "\n",
        "# Expected Output\n",
        "# A chart where the validation loss does not increase sharply!"
      ],
      "execution_count": 12,
      "outputs": [
        {
          "output_type": "execute_result",
          "data": {
            "text/plain": [
              "<Figure size 432x288 with 0 Axes>"
            ]
          },
          "metadata": {
            "tags": []
          },
          "execution_count": 12
        },
        {
          "output_type": "display_data",
          "data": {
            "image/png": "[encoded data removed]",
            "text/plain": [
              "<Figure size 432x288 with 1 Axes>"
            ]
          },
          "metadata": {
            "tags": []
          }
        },
        {
          "output_type": "display_data",
          "data": {
            "image/png": "[encoded data removed]",
            "text/plain": [
              "<Figure size 432x288 with 1 Axes>"
            ]
          },
          "metadata": {
            "tags": []
          }
        },
        {
          "output_type": "display_data",
          "data": {
            "text/plain": [
              "<Figure size 432x288 with 0 Axes>"
            ]
          },
          "metadata": {
            "tags": []
          }
        }
      ]
    },
    {
      "cell_type": "code",
      "metadata": {
        "id": "OYPCYrII6uZI",
        "colab_type": "code",
        "colab": {}
      },
      "source": [
        ""
      ],
      "execution_count": 0,
      "outputs": []
    }
  ]
}